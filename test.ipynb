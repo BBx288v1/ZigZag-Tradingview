{
 "cells": [
  {
   "cell_type": "code",
   "execution_count": null,
   "metadata": {},
   "outputs": [],
   "source": [
    "from pyine import *\n",
    "ema = ema(close, period)"
   ]
  },
  {
   "cell_type": "code",
   "execution_count": null,
   "metadata": {},
   "outputs": [],
   "source": [
    "# https://github.com/StreamAlpha/tvdatafeed\n",
    "# open cmd and use below command to install tvDatafeed\n",
    "# pip install tvDatafeed\n",
    "# and hit Enter\n",
    "\n",
    "\n",
    "from tvDatafeed import TvDatafeed, Interval\n",
    "\n",
    "tv = TvDatafeed()\n",
    "\n",
    "df = tv.get_hist(symbol='BTCUSDT',exchange='BINANCE',interval=Interval.in_1_minute,n_bars=5000)\n",
    "\n",
    "\n",
    "\n",
    "\n",
    "print(df)"
   ]
  },
  {
   "cell_type": "code",
   "execution_count": null,
   "metadata": {},
   "outputs": [],
   "source": [
    "from datetime import datetime\n",
    "print()"
   ]
  },
  {
   "cell_type": "code",
   "execution_count": null,
   "metadata": {},
   "outputs": [],
   "source": []
  },
  {
   "cell_type": "code",
   "execution_count": null,
   "metadata": {},
   "outputs": [],
   "source": [
    "data_highs = [(1,2),(3,4),(0,1),(9,10),(6,7),(2,3)]"
   ]
  },
  {
   "cell_type": "code",
   "execution_count": null,
   "metadata": {},
   "outputs": [],
   "source": [
    "ind2 = 3"
   ]
  },
  {
   "cell_type": "code",
   "execution_count": null,
   "metadata": {},
   "outputs": [],
   "source": [
    "highs_d = sorted([(ind_h, p_h) for ind_h, p_h in data_highs if ind_h < ind2], key=lambda y: y[0])"
   ]
  },
  {
   "cell_type": "code",
   "execution_count": null,
   "metadata": {},
   "outputs": [],
   "source": [
    "highs_d"
   ]
  },
  {
   "cell_type": "code",
   "execution_count": null,
   "metadata": {},
   "outputs": [],
   "source": [
    "from math import floor\n",
    "import trendln\n",
    "\n",
    "def _calc_dev(base_price, price):\n",
    "    return 100 * (price - base_price) / base_price\n",
    "\n",
    "\n",
    "def zigzag(highs, lows, depth=2, dev_threshold=1):\n",
    "\n",
    "\n",
    "    mins, maxs = trendln.calc_support_resistance((lows, highs), accuracy=8, errpct=0.01)\n",
    "    \n",
    "    data_highs = [(x,highs[x]) for x in maxs[0]]\n",
    "    data_lows = [(y,lows[y]) for y in mins[0]]\n",
    "    indm = maxs[0]\n",
    "    print(data_highs[:3])\n",
    "    print(data_lows[:3])\n",
    "\n",
    "\n",
    "    raw_pairs = []\n",
    "    ix = 0\n",
    "    while ix < len(data_highs):\n",
    "        ind, p = data_highs[ix]\n",
    "        print(ind)\n",
    "        lows_d = sorted([(ind_l, p_l) for ind_l, p_l in data_lows if ind_l > ind], key=lambda x: x[0])\n",
    "        lows_d.reverse()\n",
    "        print(\"No: \", ix)\n",
    "        if lows_d:\n",
    "            #break\n",
    "            status = True\n",
    "            for lows in lows_d:\n",
    "                if _calc_dev(lows[1], p) >= dev_threshold:\n",
    "                    #print(lows_d)\n",
    "                    #print((ind, p))\n",
    "                    raw_pairs.append(\n",
    "                        ((ind, p),\n",
    "                        (lows[0], lows[1]))\n",
    "                    )\n",
    "                    \n",
    "                    ind2=lows[0]\n",
    "                    print(ind2)\n",
    "                    p2=lows[1]\n",
    "                    highs_d = sorted([(ind_h, p_h) for ind_h, p_h in data_highs if ind_h > ind2], key=lambda y: y[0])\n",
    "                    highs_d.reverse()\n",
    "                    if highs_d:\n",
    "                        #break\n",
    "                        \n",
    "                        for highs in highs_d:\n",
    "                            #print(_calc_dev(p2, highs[1]))\n",
    "                            if _calc_dev(p2, highs[1]) >= dev_threshold:\n",
    "                                #print(lows_d)\n",
    "                                #print((ind, p))\n",
    "                                raw_pairs.append(\n",
    "                                    ((ind2, p2),\n",
    "                                    (highs[0], highs[1]))\n",
    "                                )\n",
    "                                print('True')\n",
    "                                status = False\n",
    "                                print(highs[0])\n",
    "                                ix = indm.index(highs[0])\n",
    "                                break\n",
    "                    break\n",
    "            if status:\n",
    "                break\n",
    "\n",
    "    result = []\n",
    "    #print(raw_pairs)\n",
    "    for (i_h, p_h),(i_l, p_l) in raw_pairs:\n",
    "        if not result:\n",
    "            result.append(((i_h, p_h),(i_l, p_l)))\n",
    "            continue\n",
    "\n",
    "        if i_l == result[-1][1][0]:\n",
    "            if p_h > result[-1][0][1]:\n",
    "                result = result[:-1]\n",
    "            else:\n",
    "                continue\n",
    "\n",
    "        result.append(((i_h, p_h),(i_l, p_l)))\n",
    "    print(result)\n",
    "    return result"
   ]
  },
  {
   "cell_type": "code",
   "execution_count": null,
   "metadata": {},
   "outputs": [],
   "source": [
    "                highs_d = sorted([(ind_h, p_h) for ind_h, p_h in data_highs if ind_h > lows[0]], key=lambda y: y[0])\n",
    "                if lows_d:\n",
    "                    lows = lows_d[-1]\n",
    "\n",
    "                    if _calc_dev(lows[1], p) >= dev_threshold:\n",
    "                        raw_pairs.append(\n",
    "                            ((ind, p),\n",
    "                            (lows[0], lows[1]))\n",
    "                        )"
   ]
  },
  {
   "cell_type": "code",
   "execution_count": null,
   "metadata": {},
   "outputs": [],
   "source": [
    "from math import floor\n",
    "import trendln\n",
    "\n",
    "def _calc_dev(base_price, price):\n",
    "    return 100 * (price - base_price) / base_price\n",
    "\n",
    "\n",
    "def zigzag(highs, lows, depth=2, dev_threshold=1):\n",
    "\n",
    "\n",
    "    def pivots(src_raw, length, isHigh):\n",
    "        src = list(reversed(src_raw))\n",
    "        bar_index = list(range(len(src)))\n",
    "        for start in range(len(src)):\n",
    "            if start + 2 * length + 1 > len(src) - 1:\n",
    "                return\n",
    "            p = 0\n",
    "            if length < len(src) - start:\n",
    "                p = src[start + length]\n",
    "            if length == 0:\n",
    "                yield 0, p\n",
    "            else:\n",
    "                isFound = True\n",
    "                for i in range(start, start + length):\n",
    "                    if isHigh and src[i] > p:\n",
    "                        isFound = False\n",
    "                    if not isHigh and src[i] < p:\n",
    "                        isFound = False\n",
    "                for i in range(start + length + 1, start + 2 * length + 1):\n",
    "                    if isHigh and src[i] >= p:\n",
    "                        isFound = False\n",
    "                    c = not isHigh and src[i] <= p\n",
    "                    if c:\n",
    "                        isFound = False\n",
    "                if isFound:\n",
    "                    yield (bar_index[start + length], p)\n",
    "                else:\n",
    "                    yield None, None\n",
    "\n",
    "    data_highs = [x for x in pivots(highs, floor(depth / 2), True) if x[0]]\n",
    "    data_lows = [x for x in pivots(lows, floor(depth / 2), False) if x[0]]\n",
    "    \n",
    "    len(data_highs)\n",
    "    raw_pairs = []\n",
    "    for i, (ind, p) in enumerate(data_highs):\n",
    "        lows_d = sorted([(ind_l, p_l) for ind_l, p_l in data_lows if ind > ind_l], key=lambda x: x[0])\n",
    "        if lows_d:\n",
    "            lows = lows_d[-1]\n",
    "\n",
    "            if abs(_calc_dev(lows[1], p)) >= dev_threshold:\n",
    "                raw_pairs.append(\n",
    "                    ((ind, p),\n",
    "                     (lows[0], lows[1]))\n",
    "                )\n",
    "\n",
    "    result = []\n",
    "\n",
    "    for (i_h, p_h),(i_l, p_l) in raw_pairs:\n",
    "        if not result:\n",
    "            result.append(((i_h, p_h),(i_l, p_l)))\n",
    "            continue\n",
    "\n",
    "        if i_l == result[-1][1][0]:\n",
    "            if p_h > result[-1][0][1]:\n",
    "                result = result[:-1]\n",
    "            else:\n",
    "                continue\n",
    "\n",
    "        result.append(((i_h, p_h),(i_l, p_l)))\n",
    "    print(result)\n",
    "    return result"
   ]
  },
  {
   "cell_type": "code",
   "execution_count": null,
   "metadata": {},
   "outputs": [],
   "source": [
    "from tvDatafeed import TvDatafeed, Interval\n",
    "\n",
    "import matplotlib.pyplot as plt\n",
    "import numpy as np\n",
    "import pandas as pd\n",
    "tv = TvDatafeed()\n",
    "def GetDate(df, index):\n",
    "    return str(list(df[\"high\"].keys())[index])\n",
    "df = tv.get_hist(symbol='BTCUSDT',exchange='BINANCE',interval=Interval.in_1_minute,n_bars=10000)\n",
    "df = pd.DataFrame(df)\n",
    "df.to_csv('data.csv', index=False)\n",
    "hist1 = df\n",
    "lenData = len(hist1)\n",
    "data = {\n",
    "    \"PEAKIndex\": [],\n",
    "    \"Time1\": [],\n",
    "    \"price1\": [],\n",
    "    \"VALLEYIndex\": [],\n",
    "    \"Time2\": [],\n",
    "    \"price2\": [],\n",
    "}\n",
    "print(hist1['high'][:3])\n",
    "for (i_h, p_h),(i_l, p_l) in zigzag(hist1['high'], hist1['low'],depth=500):\n",
    "    #print(lenData-i_h-1)\n",
    "    print(f'PEAK Index: {i_h}, Time: {GetDate(hist1,lenData-i_h-1)}, price: {p_h}.......VALLEY Index: {i_l}, Time: {GetDate(hist1,lenData-i_l-1)}, price: {p_l}')\n",
    "    data[\"PEAKIndex\"].append(i_h)\n",
    "    data[\"Time1\"].append(GetDate(hist1,lenData-i_h-1))\n",
    "    data[\"price1\"].append(p_h)\n",
    "    data[\"VALLEYIndex\"].append(i_l)\n",
    "    data[\"Time2\"].append(GetDate(hist1,lenData-i_l-1))\n",
    "    data[\"price2\"].append(p_l)\n",
    "df = pd.DataFrame(data)\n",
    "df.to_csv('result.csv', index=False)"
   ]
  },
  {
   "cell_type": "code",
   "execution_count": null,
   "metadata": {},
   "outputs": [],
   "source": [
    "import trendln\n",
    "# this will serve as an example for security or index closing prices, or low and high prices\n",
    "import yfinance as yf # requires yfinance - pip install yfinance\n",
    "tick = yf.Ticker('^GSPC') # S&P500\n",
    "hist = tick.history(period=\"max\", rounding=True)\n",
    "h = hist[-500:].Close\n",
    "mins, maxs = trendln.calc_support_resistance(h, accuracy=8)\n",
    "minimaIdxs, pmin, mintrend, minwindows = trendln.calc_support_resistance((hist[-500:].Low, None), accuracy=8) #support only\n",
    "mins, maxs = trendln.calc_support_resistance((hist[-500:].Low, hist[-500:].High), accuracy=8)\n",
    "(minimaIdxs, pmin, mintrend, minwindows), (maximaIdxs, pmax, maxtrend, maxwindows) = mins, maxs"
   ]
  },
  {
   "cell_type": "code",
   "execution_count": null,
   "metadata": {},
   "outputs": [],
   "source": [
    "from tvDatafeed import TvDatafeed, Interval\n",
    "import pandas as pd\n",
    "df = tv.get_hist(symbol='BTCUSDT',exchange='BINANCE',interval=Interval.in_1_minute,n_bars=10000)\n",
    "df = pd.DataFrame(df)"
   ]
  },
  {
   "cell_type": "code",
   "execution_count": null,
   "metadata": {},
   "outputs": [],
   "source": [
    "df=df[-500:]"
   ]
  },
  {
   "cell_type": "code",
   "execution_count": null,
   "metadata": {},
   "outputs": [],
   "source": [
    "import matplotlib.pyplot as plt\n",
    "mins, maxs = trendln.calc_support_resistance((df.low, df.high), accuracy=8, errpct=0.01)\n"
   ]
  },
  {
   "cell_type": "code",
   "execution_count": null,
   "metadata": {},
   "outputs": [],
   "source": [
    "len(minimaIdxs)"
   ]
  },
  {
   "cell_type": "code",
   "execution_count": null,
   "metadata": {},
   "outputs": [],
   "source": [
    "fig = trendln.plot_support_resistance((df.low, df.high), accuracy=8, errpct=0.01,window=10, pctbound=0.01)"
   ]
  },
  {
   "cell_type": "code",
   "execution_count": null,
   "metadata": {},
   "outputs": [],
   "source": [
    "plt.savefig('suppres.svg', format='svg')\n",
    "plt.show()\n",
    "plt.clf() #clear figure"
   ]
  },
  {
   "cell_type": "code",
   "execution_count": null,
   "metadata": {},
   "outputs": [],
   "source": [
    "a = True if 2 > 1 else False"
   ]
  },
  {
   "cell_type": "code",
   "execution_count": null,
   "metadata": {},
   "outputs": [],
   "source": [
    "from tvDatafeed import TvDatafeed, Interval\n",
    "import pandas as pd\n",
    "tv = TvDatafeed()\n",
    "def GetDate(df, index):\n",
    "    return str(datetime.fromtimestamp(list(df[\"volume\"].keys())[index].timestamp()))\n",
    "df = tv.get_hist(symbol='BTCUSDTPERP',exchange='BINANCE',interval=Interval.in_15_minute,n_bars=500)\n",
    "df = pd.DataFrame(df)\n",
    "vl = df[\"high\"]\n",
    "vz = list(df[\"high\"].keys())\n",
    "print(len(vz))\n",
    "for v in range(len(vl)):\n",
    "    if vl[v] == 20170.0:\n",
    "        print(v)\n",
    "        print(vz[v])"
   ]
  },
  {
   "cell_type": "code",
   "execution_count": null,
   "metadata": {},
   "outputs": [],
   "source": [
    "zz.zigzag(df['high'], df['low'],depth=2,dev_threshold=1)[0]"
   ]
  },
  {
   "cell_type": "code",
   "execution_count": null,
   "metadata": {},
   "outputs": [],
   "source": [
    "vz[0]"
   ]
  },
  {
   "cell_type": "code",
   "execution_count": null,
   "metadata": {},
   "outputs": [],
   "source": [
    "with open(\"1.txt\", \"w+\") as writer:\n",
    "    writer.write(str(hist1[\"high\"]))"
   ]
  },
  {
   "cell_type": "code",
   "execution_count": null,
   "metadata": {},
   "outputs": [],
   "source": [
    "len(vz-3461)"
   ]
  },
  {
   "cell_type": "code",
   "execution_count": null,
   "metadata": {},
   "outputs": [],
   "source": [
    "GetDate(hist1,3477)"
   ]
  },
  {
   "cell_type": "code",
   "execution_count": null,
   "metadata": {},
   "outputs": [],
   "source": [
    "from yahooquery import Ticker\n",
    "t = Ticker('AAPL')\n",
    "hist = t.history(period='1y')\n",
    "for (i_h, p_h),(i_l, p_l) in zigzag(hist['high'], hist['low']):\n",
    "    print(f'PEAK Index: {i_h}, price: {p_h}, VALLEY Index: {i_l}, price: {p_l}')"
   ]
  },
  {
   "cell_type": "code",
   "execution_count": null,
   "metadata": {},
   "outputs": [],
   "source": [
    "hist1['time']"
   ]
  },
  {
   "cell_type": "code",
   "execution_count": null,
   "metadata": {},
   "outputs": [],
   "source": [
    "hist"
   ]
  },
  {
   "cell_type": "code",
   "execution_count": null,
   "metadata": {},
   "outputs": [],
   "source": [
    "hist1"
   ]
  },
  {
   "cell_type": "code",
   "execution_count": null,
   "metadata": {},
   "outputs": [],
   "source": [
    "hist1['high'][0]"
   ]
  },
  {
   "cell_type": "code",
   "execution_count": null,
   "metadata": {},
   "outputs": [],
   "source": [
    "hist1 = hist"
   ]
  },
  {
   "cell_type": "code",
   "execution_count": 127,
   "metadata": {},
   "outputs": [],
   "source": [
    "def zigzag(highs, lows, depth=10):\n",
    "    \n",
    "    def pivots(src_raw, length, isHigh):\n",
    "        src = src_raw\n",
    "        bar_index = list(range(len(src)))\n",
    "        for start in range(0, len(src)):\n",
    "            if start + 2 * length + 1 > len(src) - 1:\n",
    "                return\n",
    "            p = 0\n",
    "            if length < len(src) - start:\n",
    "                p = src[start + length]\n",
    "                x = src[start:start+1]\n",
    "            if length == 0:\n",
    "                yield 0, x\n",
    "            else:\n",
    "                isFound = True\n",
    "                for i in range(start, start + length):\n",
    "                    if isHigh and src[i] > p:\n",
    "                        isFound = False\n",
    "                    if not isHigh and src[i] < p:\n",
    "                        isFound = False\n",
    "                for i in range(start + length + 1, start + 2 * length + 1):\n",
    "                    if isHigh and src[i] >= p:\n",
    "                        isFound = False\n",
    "                    c = not isHigh and src[i] <= p\n",
    "                    if c:\n",
    "                        isFound = False\n",
    "                if isFound:\n",
    "                    yield (bar_index[start + length], x)\n",
    "                else:\n",
    "                    yield None, None\n",
    "\n",
    "    data_highs = [x for x in pivots(highs, floor(depth / 2), True) if x[0]]\n",
    "    data_lows = [x for x in pivots(lows, floor(depth / 2), False) if x[0]]\n",
    "    rda = data_highs + data_lows\n",
    "    rda = sorted([(ind_l, p_l) for ind_l, p_l in data_lows], key=lambda x: x[0])\n",
    "    rda = [y for x, y in rda]\n",
    "    value = rda[0]\n",
    "    index = 1\n",
    "    while index < len(rda):\n",
    "        value = value.append(rda[index])\n",
    "        index += 1\n",
    "    return value"
   ]
  },
  {
   "cell_type": "code",
   "execution_count": 133,
   "metadata": {},
   "outputs": [
    {
     "name": "stderr",
     "output_type": "stream",
     "text": [
      "WARNING:tvDatafeed.main:you are using nologin method, data you access may be limited\n"
     ]
    },
    {
     "data": {
      "image/png": "[encoded data removed]",
      "text/plain": [
       "<Figure size 640x480 with 1 Axes>"
      ]
     },
     "metadata": {},
     "output_type": "display_data"
    }
   ],
   "source": [
    "from pandas_datareader import get_data_yahoo\n",
    "import pandas as pd\n",
    "from zigzag import *\n",
    "from tvDatafeed import TvDatafeed, Interval\n",
    "import pandas as pd\n",
    "from math import floor\n",
    "import math\n",
    "tv = TvDatafeed()\n",
    "def GetDate(df, index):\n",
    "    return str(datetime.fromtimestamp(list(df[\"volume\"].keys())[index].timestamp()))\n",
    "df = tv.get_hist(symbol='BTCUSDTPERP',exchange='BINANCE',interval=Interval.in_15_minute,n_bars=400)\n",
    "df = pd.DataFrame(df)\n",
    "#rda = zigzag(df[\"high\"], df[\"low\"], depth=2)\n",
    "\n",
    "df3 = df[\"high\"].to_frame().merge(df[\"low\"].to_frame(), how='inner', right_index=True, left_index=True)\n",
    "X = df[\"high\"]\n",
    "pivots = peak_valley_pivots(X.values, 0.01, -0.01)\n",
    "ts_pivots = pd.Series(X, index=X.index)\n",
    "ts_pivots = ts_pivots[pivots != 0]\n",
    "X.plot()\n",
    "ts_pivots.plot(style='g-o');"
   ]
  },
  {
   "cell_type": "code",
   "execution_count": 131,
   "metadata": {},
   "outputs": [
    {
     "data": {
      "text/plain": [
       "datetime\n",
       "2022-11-02 01:30:00    20437.3\n",
       "2022-11-02 23:15:00    20391.5\n",
       "2022-11-03 01:30:00    20796.0\n",
       "2022-11-03 05:45:00    20101.1\n",
       "2022-11-03 11:15:00    20400.0\n",
       "2022-11-03 19:45:00    20114.0\n",
       "2022-11-04 21:30:00    21297.0\n",
       "2022-11-05 00:30:00    20766.8\n",
       "2022-11-05 10:15:00    21473.7\n",
       "2022-11-07 06:15:00    21022.1\n",
       "Name: high, dtype: float64"
      ]
     },
     "execution_count": 131,
     "metadata": {},
     "output_type": "execute_result"
    }
   ],
   "source": [
    "ts_pivots"
   ]
  },
  {
   "cell_type": "code",
   "execution_count": 126,
   "metadata": {},
   "outputs": [
    {
     "data": {
      "text/plain": [
       "datetime\n",
       "2022-11-07 05:00:00    21085.6\n",
       "2022-11-07 03:30:00    21168.1\n",
       "2022-11-07 03:00:00    21175.8\n",
       "2022-11-07 02:15:00    21181.0\n",
       "2022-11-07 01:00:00    21211.3\n",
       "                        ...   \n",
       "2022-11-02 05:00:00    20424.9\n",
       "2022-11-02 04:30:00    20454.1\n",
       "2022-11-02 03:45:00    20461.0\n",
       "2022-11-02 02:30:00    20429.2\n",
       "2022-11-02 01:30:00    20415.4\n",
       "Name: low, Length: 121, dtype: float64"
      ]
     },
     "execution_count": 126,
     "metadata": {},
     "output_type": "execute_result"
    }
   ],
   "source": [
    "rda"
   ]
  },
  {
   "cell_type": "code",
   "execution_count": 123,
   "metadata": {},
   "outputs": [
    {
     "data": {
      "text/plain": [
       "datetime\n",
       "2022-11-07 05:00:00    21085.6\n",
       "2022-11-07 01:00:00    21211.3\n",
       "2022-11-07 00:30:00    21220.9\n",
       "Name: low, dtype: float64"
      ]
     },
     "execution_count": 123,
     "metadata": {},
     "output_type": "execute_result"
    }
   ],
   "source": [
    "rdax"
   ]
  },
  {
   "cell_type": "code",
   "execution_count": 93,
   "metadata": {},
   "outputs": [
    {
     "data": {
      "text/plain": [
       "[(2, 20410.1),\n",
       " (6, 20424.4),\n",
       " (11, 20451.0),\n",
       " (14, 20419.4),\n",
       " (16, 20423.8),\n",
       " (23, 20400.0),\n",
       " (31, 20448.3),\n",
       " (35, 20490.9),\n",
       " (39, 20506.4),\n",
       " (42, 20500.0),\n",
       " (45, 20463.3),\n",
       " (47, 20449.0),\n",
       " (52, 20343.4),\n",
       " (56, 20400.4),\n",
       " (61, 20410.1),\n",
       " (63, 20323.0),\n",
       " (65, 20356.2),\n",
       " (72, 20356.2),\n",
       " (74, 20369.4),\n",
       " (77, 20352.3),\n",
       " (84, 20391.6),\n",
       " (88, 20365.2),\n",
       " (95, 20146.8),\n",
       " (98, 20361.5),\n",
       " (100, 20100.0),\n",
       " (104, 20091.3),\n",
       " (108, 20050.0),\n",
       " (114, 20051.0),\n",
       " (119, 20111.0),\n",
       " (124, 20185.0),\n",
       " (128, 20283.3),\n",
       " (130, 20267.7),\n",
       " (134, 20293.4),\n",
       " (137, 20308.3),\n",
       " (140, 20330.2),\n",
       " (143, 20311.4),\n",
       " (146, 20293.3),\n",
       " (153, 20240.1),\n",
       " (156, 20273.1),\n",
       " (158, 20274.3),\n",
       " (166, 20038.6),\n",
       " (170, 20026.0),\n",
       " (172, 20094.6),\n",
       " (175, 20077.2),\n",
       " (181, 20200.0),\n",
       " (184, 20233.6),\n",
       " (189, 20212.1),\n",
       " (191, 20169.2),\n",
       " (196, 20223.5),\n",
       " (201, 20208.7),\n",
       " (205, 20217.7),\n",
       " (208, 20149.2),\n",
       " (212, 20152.8),\n",
       " (215, 20171.6),\n",
       " (220, 20233.3),\n",
       " (227, 20270.4),\n",
       " (231, 20296.0),\n",
       " (234, 20301.0),\n",
       " (237, 20332.0),\n",
       " (242, 20560.0),\n",
       " (244, 20537.4),\n",
       " (248, 20581.7),\n",
       " (251, 20559.8),\n",
       " (254, 20555.0),\n",
       " (256, 20533.2),\n",
       " (265, 20350.0),\n",
       " (270, 20685.0),\n",
       " (279, 20660.0),\n",
       " (283, 20661.5),\n",
       " (285, 20720.0),\n",
       " (287, 20705.0),\n",
       " (292, 20906.3),\n",
       " (296, 21040.6),\n",
       " (307, 21126.7),\n",
       " (309, 21122.1),\n",
       " (311, 21071.1),\n",
       " (316, 21309.4),\n",
       " (318, 21324.0),\n",
       " (322, 21333.5),\n",
       " (330, 21352.6),\n",
       " (335, 21365.9),\n",
       " (337, 21370.1),\n",
       " (339, 21375.0),\n",
       " (341, 21371.1),\n",
       " (344, 21250.1),\n",
       " (346, 21226.8),\n",
       " (349, 21230.3),\n",
       " (354, 21280.0),\n",
       " (361, 21283.5),\n",
       " (365, 21240.0),\n",
       " (370, 21202.8),\n",
       " (374, 21285.9),\n",
       " (379, 21260.3),\n",
       " (384, 21271.3),\n",
       " (386, 21250.1),\n",
       " (389, 21279.4),\n",
       " (392, 21312.2),\n",
       " (397, 21312.0),\n",
       " (403, 21227.0),\n",
       " (408, 21282.6),\n",
       " (412, 21290.2),\n",
       " (414, 21162.2),\n",
       " (420, 21198.0),\n",
       " (424, 21210.5),\n",
       " (426, 21206.0),\n",
       " (428, 21155.0),\n",
       " (430, 21133.8),\n",
       " (434, 21139.9),\n",
       " (436, 21150.3),\n",
       " (439, 21168.3),\n",
       " (446, 21224.3),\n",
       " (453, 21166.1),\n",
       " (459, 21194.2),\n",
       " (463, 21180.0),\n",
       " (471, 21144.8),\n",
       " (478, 21210.0),\n",
       " (480, 21187.4),\n",
       " (485, 21159.5),\n",
       " (488, 21167.9),\n",
       " (490, 21150.3),\n",
       " (496, 21026.9)]"
      ]
     },
     "execution_count": 93,
     "metadata": {},
     "output_type": "execute_result"
    }
   ],
   "source": [
    "data_lows"
   ]
  },
  {
   "cell_type": "code",
   "execution_count": 84,
   "metadata": {},
   "outputs": [
    {
     "ename": "TypeError",
     "evalue": "ufunc 'isnan' not supported for the input types, and the inputs could not be safely coerced to any supported types according to the casting rule ''safe''",
     "output_type": "error",
     "traceback": [
      "\u001b[1;31m---------------------------------------------------------------------------\u001b[0m",
      "\u001b[1;31mTypeError\u001b[0m                                 Traceback (most recent call last)",
      "\u001b[1;32m~\\AppData\\Local\\Temp\\ipykernel_13628\\2258639133.py\u001b[0m in \u001b[0;36m<module>\u001b[1;34m\u001b[0m\n\u001b[0;32m      1\u001b[0m \u001b[0marr\u001b[0m \u001b[1;33m=\u001b[0m \u001b[0mdf\u001b[0m\u001b[1;33m.\u001b[0m\u001b[0mvalues\u001b[0m\u001b[1;33m\u001b[0m\u001b[1;33m\u001b[0m\u001b[0m\n\u001b[1;32m----> 2\u001b[1;33m \u001b[0mdf3\u001b[0m\u001b[1;33m[\u001b[0m\u001b[1;34m'xy'\u001b[0m\u001b[1;33m]\u001b[0m \u001b[1;33m=\u001b[0m \u001b[0marr\u001b[0m\u001b[1;33m[\u001b[0m\u001b[1;33m~\u001b[0m\u001b[0mnp\u001b[0m\u001b[1;33m.\u001b[0m\u001b[0misnan\u001b[0m\u001b[1;33m(\u001b[0m\u001b[0marr\u001b[0m\u001b[1;33m)\u001b[0m\u001b[1;33m]\u001b[0m\u001b[1;33m.\u001b[0m\u001b[0mastype\u001b[0m\u001b[1;33m(\u001b[0m\u001b[0mint\u001b[0m\u001b[1;33m)\u001b[0m\u001b[1;33m\u001b[0m\u001b[1;33m\u001b[0m\u001b[0m\n\u001b[0m",
      "\u001b[1;31mTypeError\u001b[0m: ufunc 'isnan' not supported for the input types, and the inputs could not be safely coerced to any supported types according to the casting rule ''safe''"
     ]
    }
   ],
   "source": [
    "arr = df.values\n",
    "df3['xy'] = arr[~np.isnan(arr)].astype(int)"
   ]
  },
  {
   "cell_type": "code",
   "execution_count": 78,
   "metadata": {},
   "outputs": [
    {
     "data": {
      "text/plain": [
       "123"
      ]
     },
     "execution_count": 78,
     "metadata": {},
     "output_type": "execute_result"
    }
   ],
   "source": [
    "len(data_highs)"
   ]
  },
  {
   "cell_type": "code",
   "execution_count": 87,
   "metadata": {},
   "outputs": [
    {
     "data": {
      "text/plain": [
       "datetime\n",
       "2022-11-02 01:00:00    40877.9\n",
       "dtype: float64"
      ]
     },
     "execution_count": 87,
     "metadata": {},
     "output_type": "execute_result"
    }
   ],
   "source": [
    "df[\"high\"][:1]+df[\"low\"][:1]"
   ]
  },
  {
   "cell_type": "code",
   "execution_count": 70,
   "metadata": {},
   "outputs": [
    {
     "data": {
      "text/plain": [
       "True"
      ]
     },
     "execution_count": 70,
     "metadata": {},
     "output_type": "execute_result"
    }
   ],
   "source": [
    "import math\n",
    "math.isnan(data_highs[0].values[0])"
   ]
  }
 ],
 "metadata": {
  "kernelspec": {
   "display_name": "Python 3.9.13 ('base')",
   "language": "python",
   "name": "python3"
  },
  "language_info": {
   "codemirror_mode": {
    "name": "ipython",
    "version": 3
   },
   "file_extension": ".py",
   "mimetype": "text/x-python",
   "name": "python",
   "nbconvert_exporter": "python",
   "pygments_lexer": "ipython3",
   "version": "3.9.13"
  },
  "orig_nbformat": 4,
  "vscode": {
   "interpreter": {
    "hash": "d11351103f575c4f405ef2de10b61fd5a8144248884f590e48389ed1f2b1a70f"
   }
  }
 },
 "nbformat": 4,
 "nbformat_minor": 2
}
